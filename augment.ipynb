{
 "cells": [
  {
   "cell_type": "code",
   "execution_count": 15,
   "metadata": {},
   "outputs": [],
   "source": [
    "import os\n",
    "import numpy as np\n",
    "import matplotlib.pyplot as plt\n",
    "import PIL.Image\n",
    "import imageio\n",
    "from io import BytesIO\n",
    "import imgaug as ia\n",
    "import imgaug.augmenters as iaa\n",
    "\n",
    "\n",
    "ia.seed(1)\n"
   ]
  },
  {
   "cell_type": "code",
   "execution_count": 16,
   "metadata": {},
   "outputs": [],
   "source": [
    "imgaug_seq = iaa.SomeOf((1, 3), [\n",
    "    # arithmetic\n",
    "    iaa.SomeOf((1, 3), [\n",
    "        iaa.JpegCompression(compression=(30, 50)),\n",
    "        # iaa.imgcorruptlike.Saturate(severity=(1,3)),\n",
    "        iaa.MultiplyElementwise((0.5, 1.5)),\n",
    "        iaa.MultiplyElementwise((0.5, 1.5), per_channel=0.5),\n",
    "        iaa.Multiply((0.5, 1.5)),\n",
    "        iaa.AdditiveGaussianNoise(scale=(0, 0.1*255)),\n",
    "    ]),\n",
    "    \n",
    "    # blur, resize, quantize, convo (sharpen)\n",
    "    iaa.OneOf([\n",
    "        iaa.OneOf([\n",
    "            iaa.KMeansColorQuantization(),\n",
    "            iaa.UniformColorQuantization(),\n",
    "        ]),\n",
    "        iaa.GaussianBlur(sigma=(0.0, 1.0)),\n",
    "        # iaa.AveragePooling(2),\n",
    "        iaa.Sharpen(alpha=(0.0, 1.0), lightness=(0.8, 1.3)),\n",
    "    ]),\n",
    "    \n",
    "    # color and contrast\n",
    "    iaa.SomeOf((1, 2), [\n",
    "        iaa.OneOf([\n",
    "            iaa.AddToBrightness((-20, 20)),\n",
    "            iaa.MultiplyBrightness((0.75, 1.25)),\n",
    "        ]),\n",
    "        iaa.OneOf([\n",
    "            iaa.GammaContrast((0.75, 1.5)),\n",
    "            iaa.SigmoidContrast(gain=(3, 10), cutoff=(0.4, 0.6)),\n",
    "            iaa.LogContrast(gain=(0.7, 1.3)),\n",
    "            iaa.LinearContrast((0.6, 1.3)),\n",
    "        ]),\n",
    "    ]),\n",
    "])\n",
    "\n",
    "imgaug_affine = iaa.SomeOf((3, 4), [\n",
    "    # geometric (flip, translate/stretch, shear, rotate)\n",
    "    iaa.Fliplr(),\n",
    "    iaa.Affine(translate_percent={\"x\": (-0.15, 0.15), \"y\": (-0.15, 0.15)}),\n",
    "    iaa.Affine(shear=(-16, 16)),\n",
    "    iaa.Affine(rotate=(-20, 20)),\n",
    "])"
   ]
  },
  {
   "cell_type": "code",
   "execution_count": 17,
   "metadata": {},
   "outputs": [],
   "source": [
    "imgaug_cartoon = iaa.Cartoon(blur_ksize=(2,3), segmentation_size=(0.85, 1.05),\n",
    "                             saturation=(1.4, 2.0), edge_prevalence=1.0)\n",
    "\n",
    "# iaa.CLAHE(tile_grid_size_px=(3, 21))\n",
    "\n",
    "augmentor = {\n",
    "    'a': imgaug_seq, \n",
    "    'b': imgaug_cartoon\n",
    "}\n",
    "\n",
    "\n"
   ]
  },
  {
   "cell_type": "code",
   "execution_count": 18,
   "metadata": {},
   "outputs": [
    {
     "name": "stderr",
     "output_type": "stream",
     "text": [
      "/tmp/ipykernel_6382/3185850149.py:34: DeprecationWarning: Starting with ImageIO v3 the behavior of this function will switch to that of iio.v3.imread. To keep the current behavior (and make this warning disappear) use `import imageio.v2 as imageio` or call `imageio.v2.imread` directly.\n",
      "  img = imageio.imread(os.path.join(in_path, folder, fname))\n"
     ]
    }
   ],
   "source": [
    "\n",
    "# You are iterating over enumerate(img_aug), which is not a list of augmented images, \n",
    "# but only the one last image that you loaded in your loop (i.e. you are saving each \n",
    "# row of the last image as its own image). \n",
    "# Something like that should work:\n",
    "\n",
    "dataset = 'a1'\n",
    "out_dataset = 'b'\n",
    "in_path = os.path.join('dataset-' + dataset)\n",
    "out_path = os.path.join('dataset-' + dataset + out_dataset)\n",
    "# in_path = os.path.join('validation')\n",
    "# out_path = os.path.join('val-cartoon')\n",
    "\n",
    "ia.seed(73451)\n",
    "\n",
    "# plt.figure(figsize=(10, 10))\n",
    "# for images, _ in train_ds.take(1):\n",
    "#     for i in range(7):\n",
    "#         augmented_images = imgaug_seq(images)\n",
    "#         ax = plt.subplot(1, 7, i + 1)\n",
    "#         plt.imshow(augmented_images[0].numpy().astype(\"uint8\"))\n",
    "#         plt.axis(\"off\")\n",
    "\n",
    "# seq = iaa.Sequential([\n",
    "#     iaa.Fliplr(0.5),\n",
    "#     iaa.Crop(percent=(0, 0.1)),\n",
    "#     iaa.Affine(rotate=(-25,25))\n",
    "# ], random_order=True)\n",
    "\n",
    "\n",
    "for folder in ['fire', 'nofire']:\n",
    "    if not os.path.exists(os.path.join(out_path, folder)):\n",
    "        os.mkdir(os.path.join(out_path, folder))\n",
    "    for fname in os.listdir(os.path.join(in_path, folder)):\n",
    "        img = imageio.imread(os.path.join(in_path, folder, fname))\n",
    "        filename = fname[:fname.rfind('.')]\n",
    "        extension = fname[fname.rfind('.'):]\n",
    "        for i in range(3 + (-2 if out_dataset == 'b' else 0)):\n",
    "            img_aug = augmentor[out_dataset].augment_image(img)\n",
    "            img_aug = imgaug_affine.augment_image(img_aug)\n",
    "            out_filename = filename + \"_ia%02d\" % (i,) + extension\n",
    "            PIL.Image.fromarray(img_aug).save(os.path.join(out_path, folder, out_filename))\n",
    "        # break\n",
    "\n",
    "# PIL.Image.fromarray(img_aug).show()\n"
   ]
  },
  {
   "cell_type": "code",
   "execution_count": 19,
   "metadata": {},
   "outputs": [],
   "source": [
    "# plt.figure(figsize=(10, 10))\n",
    "# for images, labels in train_ds2.take(1):\n",
    "#     for i in range(7):\n",
    "#         ax = plt.subplot(1, 7, i + 1)\n",
    "#         plt.imshow(images[i].numpy().astype(\"uint8\"))\n",
    "#         plt.title(class_names[labels[i]])\n",
    "#         plt.axis(\"off\")\n"
   ]
  }
 ],
 "metadata": {
  "kernelspec": {
   "display_name": "Python 3.10.8 ('ds')",
   "language": "python",
   "name": "python3"
  },
  "language_info": {
   "codemirror_mode": {
    "name": "ipython",
    "version": 3
   },
   "file_extension": ".py",
   "mimetype": "text/x-python",
   "name": "python",
   "nbconvert_exporter": "python",
   "pygments_lexer": "ipython3",
   "version": "3.10.8"
  },
  "orig_nbformat": 4,
  "vscode": {
   "interpreter": {
    "hash": "014dfd7c31165d924e5da042353ce681ca33ec6b0369e0b84d3da47be8c28adb"
   }
  }
 },
 "nbformat": 4,
 "nbformat_minor": 2
}
